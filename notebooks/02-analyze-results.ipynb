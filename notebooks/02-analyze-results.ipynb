{
 "cells": [
  {
   "cell_type": "markdown",
   "id": "de13a8d9",
   "metadata": {},
   "source": [
    "# Example analysis"
   ]
  }
 ],
 "metadata": {
  "language_info": {
   "name": "python"
  }
 },
 "nbformat": 4,
 "nbformat_minor": 5
}
