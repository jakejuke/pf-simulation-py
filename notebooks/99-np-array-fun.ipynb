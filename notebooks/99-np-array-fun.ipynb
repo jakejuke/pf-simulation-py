{
 "cells": [
  {
   "cell_type": "markdown",
   "id": "bd3fe16d",
   "metadata": {},
   "source": [
    "### Notebook for testing NumPy functions\n",
    "\n",
    "Python's memory model isn't strictly \"pass-by-value\" or \"pass-by-reference\" like it is in C++. It's often called \"pass-by-assignment\" or \"pass-by-object-reference.\"\n",
    "\n",
    "Here’s a simple way to think about it:\n",
    "    \n",
    "- When you create an object (like a big NumPy array), it lives in a specific place in memory.\n",
    "    \n",
    "- The variable you assign it to (e.g., `my_grid`) isn't the object itself; it's just a **label** or a **pointer** that points to the object in memory.\n",
    "\n",
    "When you pass `my_grid` to a function, Python **does not copy the entire array**. It only copies the small pointer. Inside the function, the parameter is a new label, but it points to the **exact same object** in memory."
   ]
  },
  {
   "cell_type": "code",
   "execution_count": 1,
   "id": "0102f0a2",
   "metadata": {},
   "outputs": [
    {
     "name": "stdout",
     "output_type": "stream",
     "text": [
      "Original grid's object ID: 4416290032\n",
      "Original grid:\n",
      " [[0. 0. 0. 0. 0.]\n",
      " [0. 0. 0. 0. 0.]\n",
      " [0. 0. 0. 0. 0.]\n",
      " [0. 0. 0. 0. 0.]\n",
      " [0. 0. 0. 0. 0.]]\n",
      "  Inside function, object ID: 4416290032\n",
      "Grid after function call:\n",
      " [[99.  0.  0.  0.  0.]\n",
      " [ 0.  0.  0.  0.  0.]\n",
      " [ 0.  0.  0.  0.  0.]\n",
      " [ 0.  0.  0.  0.  0.]\n",
      " [ 0.  0.  0.  0.  0.]]\n"
     ]
    }
   ],
   "source": [
    "import numpy as np\n",
    "\n",
    "def modify_grid_in_place(grid_data):\n",
    "    \"\"\"This function modifies the array it receives.\"\"\"\n",
    "    print(f\"  Inside function, object ID: {id(grid_data)}\")\n",
    "    # Modify the first element\n",
    "    grid_data[0, 0] = 99.0\n",
    "\n",
    "# 1. Create our main grid\n",
    "my_grid = np.zeros((5, 5))\n",
    "print(f\"Original grid's object ID: {id(my_grid)}\")\n",
    "print(\"Original grid:\\n\", my_grid)\n",
    "\n",
    "# 2. Pass the grid to the function\n",
    "modify_grid_in_place(my_grid)\n",
    "\n",
    "# 3. Check the original grid\n",
    "print(\"Grid after function call:\\n\", my_grid)"
   ]
  },
  {
   "cell_type": "markdown",
   "id": "b5b182ed",
   "metadata": {},
   "source": [
    "### Mutable vs. Immutable Objects\n",
    "\n",
    "The key difference in behavior depends on whether the object is **mutable** (can be changed) or **immutable** (cannot be changed).\n",
    "\n",
    "- **Immutable Objects:** Numbers, strings, and tuples. If you try to \"change\" one inside a function, Python creates a brand new object. The original is unaffected.\n",
    "    \n",
    "- **Mutable Objects:** Lists, dictionaries, and most importantly for you, **NumPy arrays**. These can be changed in-place.\n",
    "    \n",
    "Since the simulation grid is a NumPy array (a mutable object), any function that modifies it will be modifying the original object."
   ]
  }
 ],
 "metadata": {
  "kernelspec": {
   "display_name": ".venv",
   "language": "python",
   "name": "python3"
  },
  "language_info": {
   "codemirror_mode": {
    "name": "ipython",
    "version": 3
   },
   "file_extension": ".py",
   "mimetype": "text/x-python",
   "name": "python",
   "nbconvert_exporter": "python",
   "pygments_lexer": "ipython3",
   "version": "3.9.6"
  }
 },
 "nbformat": 4,
 "nbformat_minor": 5
}
